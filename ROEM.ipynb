{
  "cells": [
    {
      "cell_type": "markdown",
      "metadata": {
        "id": "view-in-github",
        "colab_type": "text"
      },
      "source": [
        "<a href=\"https://colab.research.google.com/github/Gus-1003/Antares/blob/main/ROEM.ipynb\" target=\"_parent\"><img src=\"https://colab.research.google.com/assets/colab-badge.svg\" alt=\"Open In Colab\"/></a>"
      ]
    },
    {
      "cell_type": "markdown",
      "metadata": {
        "id": "oNm2fbhy8jVY"
      },
      "source": [
        "# Importando Bibliotecas"
      ]
    },
    {
      "cell_type": "code",
      "execution_count": null,
      "metadata": {
        "colab": {
          "base_uri": "https://localhost:8080/"
        },
        "id": "YUY9DGp5E6C0",
        "outputId": "b83cb4e0-36d0-4331-9745-8a3bc82f207d"
      },
      "outputs": [
        {
          "output_type": "stream",
          "name": "stdout",
          "text": [
            "Mounted at /content/drive/\n",
            "/content/drive/MyDrive\n"
          ]
        }
      ],
      "source": [
        "import os\n",
        "\n",
        "import glob\n",
        "\n",
        "import cv2\n",
        "\n",
        "import numpy as np\n",
        "\n",
        "import math\n",
        "\n",
        "import pandas as pd\n",
        "\n",
        "import matplotlib.pyplot as plt\n",
        "\n",
        "from google.colab.patches import cv2_imshow\n",
        "\n",
        "from google.colab import drive\n",
        "\n",
        "drive.mount('/content/drive/')\n",
        "\n",
        "%cd /content/drive/MyDrive/"
      ]
    },
    {
      "cell_type": "markdown",
      "metadata": {
        "id": "uQdFjWBK8z4G"
      },
      "source": [
        "# Funções:"
      ]
    },
    {
      "cell_type": "markdown",
      "source": [
        "## Calcular_Distancia"
      ],
      "metadata": {
        "id": "rCLc9275zcsF"
      }
    },
    {
      "cell_type": "code",
      "source": [
        "def calcular_distancia(x1, y1, x2, y2):\n",
        "  # Calcula a diferença entre as coordenadas x e y\n",
        "  diff_x = x2 - x1\n",
        "  diff_y = y2 - y1\n",
        "\n",
        "  # Calcula o quadrado das diferenças\n",
        "  diff_x_squared = diff_x ** 2\n",
        "  diff_y_squared = diff_y ** 2\n",
        "\n",
        "  # Calcula a soma dos quadrados das diferenças\n",
        "  sum_diff_squared = diff_x_squared + diff_y_squared\n",
        "\n",
        "  # Calcula a raiz quadrada da soma dos quadrados das diferenças\n",
        "  distancia = math.sqrt(sum_diff_squared)\n",
        "\n",
        "  return distancia"
      ],
      "metadata": {
        "id": "McQzMuXUzmNU"
      },
      "execution_count": null,
      "outputs": []
    },
    {
      "cell_type": "markdown",
      "source": [
        "## create_dataset_image:"
      ],
      "metadata": {
        "id": "3oKdjCOwTL3Z"
      }
    },
    {
      "cell_type": "code",
      "source": [
        "def create_dataset_image(dataset):\n",
        "  # Cria uma lista vazia para armazenar os objetos\n",
        "  objects = []\n",
        "\n",
        "  # Percorre o dicionário\n",
        "  for attr, obj_list in dataset.items():\n",
        "    # Percorre a lista de objetos para o atributo atual\n",
        "    for obj in obj_list:\n",
        "      # Verifica se obj é um dicionário\n",
        "      if isinstance(obj, dict):\n",
        "        # Adiciona o objeto combinando com o dicionário {'attribute': attr}\n",
        "        objects.append({**{'attribute': attr}, **obj})\n",
        "\n",
        "  # Cria o DataFrame com base na lista de objetos\n",
        "  df = pd.DataFrame(objects)\n",
        "\n",
        "  # Retorna o DataFrame se for necessário usá-lo posteriormente\n",
        "  return df"
      ],
      "metadata": {
        "id": "3MSFtINeTPSq"
      },
      "execution_count": null,
      "outputs": []
    },
    {
      "cell_type": "markdown",
      "metadata": {
        "id": "hv6s_NPj-40W"
      },
      "source": [
        "## calculate_contour_properties:"
      ]
    },
    {
      "cell_type": "code",
      "execution_count": null,
      "metadata": {
        "id": "4LyaFWB-GpKd"
      },
      "outputs": [],
      "source": [
        "def calculate_contour_properties(cnt):\n",
        "  # Momentos do objeto\n",
        "  M = cv2.moments(cnt)\n",
        "\n",
        "  # Calcula a área do contorno\n",
        "  area = cv2.contourArea(cnt)\n",
        "\n",
        "  # Calcula o perímetro do contorno\n",
        "  perimeter = cv2.arcLength(cnt, True)\n",
        "\n",
        "  # Proporção de aspecto do objeto\n",
        "  x,y,w,h = cv2.boundingRect(cnt)\n",
        "  width = w\n",
        "  height = h\n",
        "\n",
        "  if min(w, h) == 0:\n",
        "    aspect_ratio = 0\n",
        "  else:\n",
        "    aspect_ratio = max(float(w), h) / min(float(w), h)\n",
        "\n",
        "  # Ângulo e raio mínimo envolvente em torno do objeto\n",
        "  rect = cv2.minAreaRect(cnt)\n",
        "  circle = cv2.minEnclosingCircle(cnt)\n",
        "\n",
        "  box = cv2.boxPoints(rect)\n",
        "  box = np.int0(box)\n",
        "\n",
        "  # Extensão do objeto (razão entre a área do objeto e a área do retângulo envolvente mínimo)\n",
        "  rect_area = w*h\n",
        "\n",
        "  # Forma de achar o contorno 1\n",
        "  center_x = int(M[\"m10\"] / M[\"m00\"])\n",
        "  center_y = int(M[\"m01\"] / M[\"m00\"])\n",
        "\n",
        "  # Forma de achar o contorno 2 - Circulo\n",
        "  (x_circle, y_circle), radius = cv2.minEnclosingCircle(cnt)\n",
        "  center_circle = (int(x_circle), int(y_circle))\n",
        "  cx_circle = int(x_circle)\n",
        "  cy_circle = int(y_circle)\n",
        "\n",
        "  # Forma de achar o contorno 2 - Quadrado\n",
        "  cx_quad = int(x)\n",
        "  cy_quad = int(y)\n",
        "\n",
        "  # Calcula a circularidade do contorno\n",
        "  if perimeter > 0:\n",
        "      circularity = 4 * np.pi * area / (perimeter ** 2)\n",
        "  else:\n",
        "      circularity = 0\n",
        "\n",
        "  return area, circularity, radius, x, y, w, h, aspect_ratio, box, center_circle, cx_circle, cy_circle, cx_quad, cy_quad, center_x, center_y"
      ]
    },
    {
      "cell_type": "markdown",
      "metadata": {
        "id": "8jnBY782BL7O"
      },
      "source": [
        "## process_contours:"
      ]
    },
    {
      "cell_type": "code",
      "execution_count": null,
      "metadata": {
        "id": "2_J2TxeXGMVB"
      },
      "outputs": [],
      "source": [
        "def process_contours(nome_frame, img_contours, contours, imagem_original):\n",
        "\n",
        "  objetos = 0\n",
        "  dicionario = {}  # Dicionário para armazenar os dados dos objetos identificados\n",
        "\n",
        "  for cnt in contours:\n",
        "    # Aproxima o contorno por uma sequência de segmentos de linha\n",
        "    approx = cv2.approxPolyDP(cnt, 0.01 * cv2.arcLength(cnt, True), True)\n",
        "\n",
        "    # Calcula as propriedades do contorno\n",
        "    area, circularity, radius, x, y, w, h, aspect_ratio, box, center, cx_circle, cy_circle, cx_quad, cy_quad, center_x, center_y = calculate_contour_properties(cnt)\n",
        "\n",
        "    # Para um padrão Circular:\n",
        "    if circularity > 0.30 and area > 2000 and radius < 100 and radius > 20 and y > 100 and y < 500:\n",
        "\n",
        "      # Define o raio máximo desejado\n",
        "      max_radius = 100\n",
        "\n",
        "      # Limita o raio ao valor máximo\n",
        "      radius = min(radius, max_radius)\n",
        "\n",
        "      # Converte o raio para inteiro\n",
        "      radius = int(radius)\n",
        "\n",
        "      # Calcula as Distancias entre os pontos centrais\n",
        "      distance_blue_green = calcular_distancia(cx_circle, cy_circle, center_x, center_y)\n",
        "\n",
        "      # Desenha um contorno Circular\n",
        "      cv2.circle(img_contours, center, radius, (0, 255, 0), 2)\n",
        "\n",
        "      # Desenho do ponto central\n",
        "      cv2.circle(img_contours, (cx_circle, cy_circle), 3, (0, 255, 0), -1) # Verde - minEnclosingCircle\n",
        "      cv2.circle(img_contours, (center_x, center_y), 3, (255, 0, 0), -1) # Azul - Momentun\n",
        "\n",
        "      # Contagem total de Objetos Identificados\n",
        "      objetos = objetos + 1\n",
        "\n",
        "      # Captura dos dados:\n",
        "      dicionario[f\"{nome_frame}_{objetos}\"] = []\n",
        "      # Adicione os dados desejados ao dicionário dataset\n",
        "      dicionario[f\"{nome_frame}_{objetos}\"].append({\n",
        "        \"Form\": \"circle\",\n",
        "        \"area\": area,\n",
        "        \"circularity\": circularity,\n",
        "        \"radius\": radius,\n",
        "        \"x\": x,\n",
        "        \"y\": y,\n",
        "        \"w\": w,\n",
        "        \"h\": h,\n",
        "        \"cx_circle\": cx_circle,\n",
        "        \"cy_circle\": cy_circle,\n",
        "        \"cx_momentun\": center_x,\n",
        "        \"cy_momentun\": center_y,\n",
        "        \"distance_of_points\" : distance_blue_green,\n",
        "      })\n",
        "\n",
        "\n",
        "    else:\n",
        "      if aspect_ratio < 2 and area > 2000 and area < 6543.5 and radius < 100 and y > 100 and y < 500:\n",
        "        # Calcula as Distancias entre os pontos centrais\n",
        "        distance_blue_green = calcular_distancia(cx_circle, cy_circle, center_x, center_y)\n",
        "\n",
        "        # Desenha um contorno quadratico\n",
        "        cv2.drawContours(img_contours, [box], 0, (0, 255, 0), 2)\n",
        "\n",
        "        # Desenho do ponto central\n",
        "        cv2.circle(img_contours, (cx_circle, cy_circle), 3, (0, 255, 0), -1) # verde - minEnclosingCircle\n",
        "        cv2.circle(img_contours, (center_x, center_y), 3, (255, 0, 0), -1) # Azul - Momentun\n",
        "\n",
        "        # Contagem total de Objetos Identificados\n",
        "        objetos = objetos + 1\n",
        "        dicionario[f\"{nome_frame}_{objetos}\"] = []\n",
        "        dicionario[f\"{nome_frame}_{objetos}\"].append({\n",
        "          \"Form\": \"Fora do padrão\",\n",
        "          \"area\": area,\n",
        "          \"circularity\": circularity,\n",
        "          \"radius\": radius,\n",
        "          \"x\": x,\n",
        "          \"y\": y,\n",
        "          \"w\": w,\n",
        "          \"h\": h,\n",
        "          \"cx_circle\": cx_circle,\n",
        "          \"cy_circle\": cy_circle,\n",
        "          \"cx_momentun\": center_x,\n",
        "          \"cy_momentun\": center_y,\n",
        "          \"distance_of_points\" : distance_blue_green,\n",
        "        })\n",
        "\n",
        "  return imagem_original, objetos, dicionario"
      ]
    },
    {
      "cell_type": "markdown",
      "metadata": {
        "id": "8LtqLaCU9WOn"
      },
      "source": [
        "## find_contours:"
      ]
    },
    {
      "cell_type": "code",
      "execution_count": null,
      "metadata": {
        "id": "AYLkG30RGLQ_"
      },
      "outputs": [],
      "source": [
        "def find_contours(image):\n",
        "  # Encontra os contornos na imagem\n",
        "  contours, hierarchy = cv2.findContours(image, cv2.RETR_TREE, cv2.CHAIN_APPROX_SIMPLE)\n",
        "  return contours"
      ]
    },
    {
      "cell_type": "markdown",
      "metadata": {
        "id": "WAm7U2qN9PGX"
      },
      "source": [
        "## dilate_image:"
      ]
    },
    {
      "cell_type": "code",
      "execution_count": null,
      "metadata": {
        "id": "TgBidEvDF7aZ"
      },
      "outputs": [],
      "source": [
        "def dilate_image(image):\n",
        "  # Define o kernel para a dilatação\n",
        "  kernel = np.ones((5, 5), np.uint8)\n",
        "\n",
        "  # Dilata a imagem\n",
        "  image = cv2.dilate(image, kernel, iterations=5)\n",
        "  return image"
      ]
    },
    {
      "cell_type": "markdown",
      "metadata": {
        "id": "qVztSQgy9Idm"
      },
      "source": [
        "## apply_threshold:"
      ]
    },
    {
      "cell_type": "code",
      "execution_count": null,
      "metadata": {
        "id": "6RlkMOfYF4_o"
      },
      "outputs": [],
      "source": [
        "def apply_threshold(image):\n",
        "  # Aplica um filtro de Sobel em x e y\n",
        "  sobelx = cv2.Sobel(image, cv2.CV_64F, 1, 0, ksize=3)\n",
        "  sobely = cv2.Sobel(image, cv2.CV_64F, 0, 1, ksize=3)\n",
        "\n",
        "  # Calcula a magnitude do gradiente\n",
        "  gradient_magnitude = cv2.magnitude(sobelx, sobely)\n",
        "\n",
        "  # Normaliza a magnitude do gradiente\n",
        "  gradient_magnitude = cv2.normalize(gradient_magnitude, None, 0, 255, cv2.NORM_MINMAX, cv2.CV_8U)\n",
        "\n",
        "  # Aplica uma limiarização utilizando o método de Otsu\n",
        "  _, gradient_threshold = cv2.threshold(gradient_magnitude, 0, 255, cv2.THRESH_BINARY + cv2.THRESH_OTSU)\n",
        "\n",
        "  return gradient_threshold"
      ]
    },
    {
      "cell_type": "markdown",
      "metadata": {
        "id": "cqCMBN8Q9Cl3"
      },
      "source": [
        "## apply_filters:"
      ]
    },
    {
      "cell_type": "code",
      "execution_count": null,
      "metadata": {
        "id": "QZNQNqlaFzmr"
      },
      "outputs": [],
      "source": [
        "def apply_filters(image):\n",
        "  # Converte a imagem para float32\n",
        "  image32f = np.float32(image)\n",
        "\n",
        "  # Aplica um filtro de média\n",
        "  mu = cv2.blur(image32f, (3, 3))\n",
        "\n",
        "  # Calcula a variância da imagem filtrada\n",
        "  mu2 = cv2.blur(image32f * image32f, (3, 3))\n",
        "  sigma = cv2.sqrt(mu2 - mu * mu)\n",
        "  sigma = sigma * 10\n",
        "  sigma = sigma.astype(\"uint8\")\n",
        "\n",
        "  # Aplica um filtro de borramento Gaussiano\n",
        "  sigma = cv2.GaussianBlur(sigma, (5, 5), 0)\n",
        "\n",
        "  # Aplica o filtro Laplaciano\n",
        "  laplacian = cv2.Laplacian(sigma, cv2.CV_32F)\n",
        "\n",
        "  # Converte a saída para o intervalo de 0 a 255\n",
        "  sigma = cv2.convertScaleAbs(laplacian)\n",
        "\n",
        "  return sigma"
      ]
    },
    {
      "cell_type": "markdown",
      "metadata": {
        "id": "MIQj2LiF88wm"
      },
      "source": [
        "## print_frame_info:"
      ]
    },
    {
      "cell_type": "code",
      "execution_count": null,
      "metadata": {
        "id": "iG-75X_dFxqz"
      },
      "outputs": [],
      "source": [
        "def print_frame_info(nome):\n",
        "  # Imprime informações do frame\n",
        "  print(f\"================================================================================\")\n",
        "  print(f\"================================================================================\")\n",
        "  print(f\"Amostra: \" + nome)"
      ]
    },
    {
      "cell_type": "markdown",
      "metadata": {
        "id": "pzKF2RpzFpZ8"
      },
      "source": [
        "## process_frame:"
      ]
    },
    {
      "cell_type": "code",
      "execution_count": null,
      "metadata": {
        "id": "V8DYLcV7FFpD"
      },
      "outputs": [],
      "source": [
        "def process_frame(frame):\n",
        "  # Carrega a imagem\n",
        "  im = cv2.imread(frame)\n",
        "\n",
        "  # Divide o caminho do arquivo e obtém o nome do frame\n",
        "  nome_completo = frame.split('/')\n",
        "  nome = nome_completo[int(posicao_do_nome_frame)].split('.')\n",
        "  amostra = nome[0]\n",
        "\n",
        "  # Imprime informações do frame\n",
        "  print_frame_info(amostra)\n",
        "\n",
        "  # Cria uma cópia da imagem para desenhar os contornos\n",
        "  img_contours = im.copy()\n",
        "\n",
        "  # Converte a imagem para escala de cinza\n",
        "  image = cv2.cvtColor(im, cv2.COLOR_BGR2GRAY)\n",
        "\n",
        "  # Aplica uma série de filtros à imagem\n",
        "  sigma = apply_filters(image)\n",
        "\n",
        "  # Aplica uma limiarização à imagem filtrada\n",
        "  gradient_threshold = apply_threshold(sigma)\n",
        "\n",
        "  # Dilata a imagem limiarizada\n",
        "  gradient_threshold = dilate_image(gradient_threshold)\n",
        "\n",
        "  # Encontra os contornos na imagem dilatada\n",
        "  contours = find_contours(gradient_threshold)\n",
        "\n",
        "  # Processa cada contorno encontrado\n",
        "  resultados = process_contours(amostra, img_contours, contours, img_contours)\n",
        "\n",
        "  return resultados, amostra"
      ]
    },
    {
      "cell_type": "markdown",
      "metadata": {
        "id": "tBtn72WWoGIl"
      },
      "source": [
        "## remove_rats"
      ]
    },
    {
      "cell_type": "code",
      "execution_count": null,
      "metadata": {
        "id": "sLTrixAPoJ3N"
      },
      "outputs": [],
      "source": [
        "# Função para remover os ratos e obter a imagem resultante\n",
        "def remove_rats(images):\n",
        "\n",
        "  # Convertendo as imagens em formato de array numpy individualmente\n",
        "  images_array = [np.array(image) for image in images]\n",
        "\n",
        "  # Calculando a mediana ao longo do eixo temporal (eixo 0)\n",
        "  median_image = np.median(images_array, axis=0)\n",
        "\n",
        "  # Convertendo a imagem resultante de volta para o tipo de dados uint8\n",
        "  median_image = median_image.astype('uint8')\n",
        "\n",
        "  return median_image"
      ]
    },
    {
      "cell_type": "markdown",
      "metadata": {
        "id": "eIWqgoGtFcyM"
      },
      "source": [
        "## extract_frame_from_video:"
      ]
    },
    {
      "cell_type": "code",
      "execution_count": null,
      "metadata": {
        "id": "LGyUSxwyKxJ6"
      },
      "outputs": [],
      "source": [
        "def extract_frames_from_videos(entrada, destino, posicao_do_nome_video=9, cont=1):\n",
        "\n",
        "  # Lista para armazenar o número \"x\"\n",
        "  images = []\n",
        "\n",
        "  cont = int(cont)\n",
        "\n",
        "  for video in entrada:\n",
        "\n",
        "    # Verificar se o caminho do vídeo existe\n",
        "    if not os.path.exists(video):\n",
        "      print(f\"O vídeo '{video}' não existe.\")\n",
        "      return\n",
        "\n",
        "    # Abrir o vídeo\n",
        "    vidcap = cv2.VideoCapture(video)\n",
        "\n",
        "    # Verificar se o vídeo foi aberto corretamente\n",
        "    if not vidcap.isOpened():\n",
        "      print(f\"Falha ao abrir o vídeo '{video}'.\")\n",
        "      return\n",
        "\n",
        "    success, image = vidcap.read()\n",
        "\n",
        "    if not success:\n",
        "      # break out of the loop if there are no frames to read\n",
        "      break\n",
        "\n",
        "    # Obtém o número total de frames do vídeo\n",
        "    total_frames = int(vidcap.get(cv2.CAP_PROP_FRAME_COUNT))\n",
        "\n",
        "    # Obtém o frame rate do vídeo (número de frames por segundo)\n",
        "    frame_rate = vidcap.get(cv2.CAP_PROP_FPS)\n",
        "\n",
        "    # Calcula a duração total do vídeo em segundos\n",
        "    video_duration = total_frames / frame_rate\n",
        "\n",
        "    # Calcula o intervalo de tempo entre cada frame com base no contador\n",
        "    intervalo = video_duration / cont\n",
        "\n",
        "    # Divide o caminho do arquivo e obtém o nome do frame\n",
        "    nome_completo = video.split('/')\n",
        "    nome = nome_completo[int(posicao_do_nome_video)].split('.')\n",
        "\n",
        "    # Loop para extrair os frames com base no intervalo de tempo\n",
        "    for i in range(cont):\n",
        "      # Calcula o tempo do frame atual, adicionando 0.5 para obter um ponto no meio do intervalo\n",
        "      frame_time = (i + 0.5) * intervalo\n",
        "\n",
        "      # Calcula o número do frame correspondente ao tempo calculado\n",
        "      frame_number = int(frame_time * frame_rate)\n",
        "\n",
        "      # Define o número do frame atual no vídeo\n",
        "      vidcap.set(cv2.CAP_PROP_POS_FRAMES, frame_number)\n",
        "\n",
        "      # Lê o frame correspondente\n",
        "      ret, frame = vidcap.read()\n",
        "\n",
        "      # Verifica se a leitura do frame foi bem-sucedida\n",
        "      if ret:\n",
        "          # Adiciona o frame à lista de frames extraídos\n",
        "          images.append(frame)\n",
        "\n",
        "    # Chamar a função remove_rats com a lista de números \"x\"\n",
        "    result = remove_rats(images)\n",
        "\n",
        "    output_path = os.path.join(destino, f\"{nome[0]}.jpg\")\n",
        "    print(output_path)\n",
        "\n",
        "    # Salvar a imagem resultante\n",
        "    cv2.imwrite(output_path, result)\n",
        "\n",
        "    # Limpar a lista de imagens para o próximo vídeo\n",
        "    images.clear()"
      ]
    },
    {
      "cell_type": "markdown",
      "metadata": {
        "id": "8QW1jewNAUde"
      },
      "source": [
        "# Base do Sistema:"
      ]
    },
    {
      "cell_type": "markdown",
      "metadata": {
        "id": "PKtgmoYhAYZm"
      },
      "source": [
        "## Endereço dos Videos:"
      ]
    },
    {
      "cell_type": "code",
      "execution_count": null,
      "metadata": {
        "id": "7TrTnAKkJGNk",
        "colab": {
          "base_uri": "https://localhost:8080/"
        },
        "outputId": "817b796a-0313-477e-b2be-aa4b571ad09b"
      },
      "outputs": [
        {
          "output_type": "stream",
          "name": "stdout",
          "text": [
            "/content/drive/MyDrive/Lab eletrofisio ISD/COMPORTAMENTO/Comportamento - ORM + reminder - Semana1/TR/CCM337-TR-Contexto1 2024-03-14 14-29-01-886.mp4\n",
            "/content/drive/MyDrive/Lab eletrofisio ISD/COMPORTAMENTO/Comportamento - ORM + reminder - Semana1/TR/CCM338-TR-Contexto2 2024-03-14 14-29-34-753.mp4\n",
            "/content/drive/MyDrive/Lab eletrofisio ISD/COMPORTAMENTO/Comportamento - ORM + reminder - Semana1/TR/CCM339-TR-Contexto3 2024-03-14 14-30-07-292.mp4\n",
            "/content/drive/MyDrive/Lab eletrofisio ISD/COMPORTAMENTO/Comportamento - ORM + reminder - Semana1/TR/CCM340-TR-Contexto1 2024-03-14 14-41-09-412.mp4\n",
            "/content/drive/MyDrive/Lab eletrofisio ISD/COMPORTAMENTO/Comportamento - ORM + reminder - Semana1/TR/CCM341-TR-Contexto2 2024-03-14 14-41-46-340.mp4\n",
            "/content/drive/MyDrive/Lab eletrofisio ISD/COMPORTAMENTO/Comportamento - ORM + reminder - Semana1/TR/CCM342-TR-Contexto3 2024-03-14 14-42-14-700.mp4\n",
            "/content/drive/MyDrive/Lab eletrofisio ISD/COMPORTAMENTO/Comportamento - ORM + reminder - Semana1/TR/CCM343-TR-Contexto1 2024-03-14 14-52-24-748.mp4\n",
            "/content/drive/MyDrive/Lab eletrofisio ISD/COMPORTAMENTO/Comportamento - ORM + reminder - Semana1/TR/CCM345-TR-Contexto2 2024-03-14 14-53-04-195.mp4\n",
            "/content/drive/MyDrive/Lab eletrofisio ISD/COMPORTAMENTO/Comportamento - ORM + reminder - Semana1/TR/CCM346-TR-Contexto3 2024-03-14 14-53-38-614.mp4\n",
            "/content/drive/MyDrive/Lab eletrofisio ISD/COMPORTAMENTO/Comportamento - ORM + reminder - Semana1/TR/CCM348-TR-Contexto1 2024-03-14 15-07-01-271.mp4\n",
            "/content/drive/MyDrive/Lab eletrofisio ISD/COMPORTAMENTO/Comportamento - ORM + reminder - Semana1/TR/CCM349-TR-Contexto2 2024-03-14 15-07-37-185.mp4\n",
            "/content/drive/MyDrive/Lab eletrofisio ISD/COMPORTAMENTO/Comportamento - ORM + reminder - Semana1/TR/CCM350-TR-Contexto3 2024-03-14 15-08-08-584.mp4\n"
          ]
        }
      ],
      "source": [
        "entrada  = glob.glob('/content/drive/MyDrive/Lab eletrofisio ISD/COMPORTAMENTO/Comportamento - ORM + reminder - Semana1/TR/*.mp4') #10 - Imagens_grey2\n",
        "\n",
        "# Imprime os elementos da lista com quebras de linha entre cada elemento\n",
        "print('\\n'.join(entrada))"
      ]
    },
    {
      "cell_type": "markdown",
      "source": [
        "### Posição do nome do video no Endereço:"
      ],
      "metadata": {
        "id": "JGwczqkH-elV"
      }
    },
    {
      "cell_type": "code",
      "execution_count": null,
      "metadata": {
        "id": "UrWv29MbJJQh",
        "colab": {
          "base_uri": "https://localhost:8080/"
        },
        "outputId": "7f71581b-6702-4f4f-85c2-acdb9d11ffa1"
      },
      "outputs": [
        {
          "name": "stdout",
          "output_type": "stream",
          "text": [
            "Posição do nome do video: 8\n"
          ]
        }
      ],
      "source": [
        "posicao_do_nome_video = input(\"Posição do nome do video: \")"
      ]
    },
    {
      "cell_type": "markdown",
      "metadata": {
        "id": "DE9N2YYkAgLu"
      },
      "source": [
        "## Endereço das imagens Brutas:"
      ]
    },
    {
      "cell_type": "code",
      "execution_count": null,
      "metadata": {
        "id": "ua_x0-RIJL97"
      },
      "outputs": [],
      "source": [
        "destino = '/content/drive/MyDrive/PPGNeuro/Projeto - Algoritmos/area-Antares/Comportamento - ORM + reminder - Semana1/results_classico'"
      ]
    },
    {
      "cell_type": "markdown",
      "metadata": {
        "id": "GZ4UaP_yAktu"
      },
      "source": [
        "### Posição do nome da Imagens no Endereço:"
      ]
    },
    {
      "cell_type": "code",
      "execution_count": null,
      "metadata": {
        "id": "FRtLpZEYI08z",
        "colab": {
          "base_uri": "https://localhost:8080/"
        },
        "outputId": "f171b54c-8190-4671-c633-dc2a22e90fba"
      },
      "outputs": [
        {
          "name": "stdout",
          "output_type": "stream",
          "text": [
            "posicao do nome da Imagem:9\n"
          ]
        }
      ],
      "source": [
        "posicao_do_nome_frame = input(\"posicao do nome da Imagem:\")"
      ]
    },
    {
      "cell_type": "markdown",
      "metadata": {
        "id": "cMYT5tPBaS53"
      },
      "source": [
        "## Extraindo os Frames:"
      ]
    },
    {
      "cell_type": "code",
      "execution_count": null,
      "metadata": {
        "id": "xZwMGRP_Lef6",
        "colab": {
          "base_uri": "https://localhost:8080/"
        },
        "outputId": "ef698efb-5251-40bc-f8da-cdecdeda28a1"
      },
      "outputs": [
        {
          "name": "stdout",
          "output_type": "stream",
          "text": [
            "Quantas imagens serão usadas como base pro no processo de remoção do rato: 5\n"
          ]
        }
      ],
      "source": [
        "cont = input(\"Quantas imagens serão usadas como base pro no processo de remoção do rato: \") #5"
      ]
    },
    {
      "cell_type": "code",
      "execution_count": null,
      "metadata": {
        "id": "Vt4DftLqJdoK",
        "colab": {
          "base_uri": "https://localhost:8080/"
        },
        "outputId": "bf1215ac-94af-451b-bdf5-c47b90e6f28e"
      },
      "outputs": [
        {
          "output_type": "stream",
          "name": "stdout",
          "text": [
            "/content/drive/MyDrive/PPGNeuro/Projeto - Algoritmos/area-Antares/Comportamento - ORM + reminder - Semana1/results_classico/CCM337-TR-Contexto1 2024-03-14 14-29-01-886.jpg\n",
            "/content/drive/MyDrive/PPGNeuro/Projeto - Algoritmos/area-Antares/Comportamento - ORM + reminder - Semana1/results_classico/CCM338-TR-Contexto2 2024-03-14 14-29-34-753.jpg\n",
            "/content/drive/MyDrive/PPGNeuro/Projeto - Algoritmos/area-Antares/Comportamento - ORM + reminder - Semana1/results_classico/CCM339-TR-Contexto3 2024-03-14 14-30-07-292.jpg\n",
            "/content/drive/MyDrive/PPGNeuro/Projeto - Algoritmos/area-Antares/Comportamento - ORM + reminder - Semana1/results_classico/CCM340-TR-Contexto1 2024-03-14 14-41-09-412.jpg\n",
            "/content/drive/MyDrive/PPGNeuro/Projeto - Algoritmos/area-Antares/Comportamento - ORM + reminder - Semana1/results_classico/CCM341-TR-Contexto2 2024-03-14 14-41-46-340.jpg\n",
            "/content/drive/MyDrive/PPGNeuro/Projeto - Algoritmos/area-Antares/Comportamento - ORM + reminder - Semana1/results_classico/CCM342-TR-Contexto3 2024-03-14 14-42-14-700.jpg\n",
            "/content/drive/MyDrive/PPGNeuro/Projeto - Algoritmos/area-Antares/Comportamento - ORM + reminder - Semana1/results_classico/CCM343-TR-Contexto1 2024-03-14 14-52-24-748.jpg\n",
            "/content/drive/MyDrive/PPGNeuro/Projeto - Algoritmos/area-Antares/Comportamento - ORM + reminder - Semana1/results_classico/CCM345-TR-Contexto2 2024-03-14 14-53-04-195.jpg\n",
            "/content/drive/MyDrive/PPGNeuro/Projeto - Algoritmos/area-Antares/Comportamento - ORM + reminder - Semana1/results_classico/CCM346-TR-Contexto3 2024-03-14 14-53-38-614.jpg\n",
            "/content/drive/MyDrive/PPGNeuro/Projeto - Algoritmos/area-Antares/Comportamento - ORM + reminder - Semana1/results_classico/CCM348-TR-Contexto1 2024-03-14 15-07-01-271.jpg\n",
            "/content/drive/MyDrive/PPGNeuro/Projeto - Algoritmos/area-Antares/Comportamento - ORM + reminder - Semana1/results_classico/CCM349-TR-Contexto2 2024-03-14 15-07-37-185.jpg\n",
            "/content/drive/MyDrive/PPGNeuro/Projeto - Algoritmos/area-Antares/Comportamento - ORM + reminder - Semana1/results_classico/CCM350-TR-Contexto3 2024-03-14 15-08-08-584.jpg\n"
          ]
        }
      ],
      "source": [
        "extract_frames_from_videos(entrada, destino, posicao_do_nome_video, cont)"
      ]
    },
    {
      "cell_type": "code",
      "execution_count": null,
      "metadata": {
        "id": "nW5w0sVoJM9x",
        "colab": {
          "base_uri": "https://localhost:8080/"
        },
        "outputId": "09374282-8a00-41aa-b5fc-c63f65ecd9b9"
      },
      "outputs": [
        {
          "output_type": "stream",
          "name": "stdout",
          "text": [
            "\n"
          ]
        }
      ],
      "source": [
        "# Criação de uma lista de endereços, cada endereço representando uma imagem:\n",
        "frames = glob.glob(destino + '*.jpg')\n",
        "print('\\n'.join(frames))"
      ]
    },
    {
      "cell_type": "markdown",
      "metadata": {
        "id": "LdSfJW7eFA-c"
      },
      "source": [
        "# Algoritmo Principal:"
      ]
    },
    {
      "cell_type": "code",
      "execution_count": null,
      "metadata": {
        "id": "5DNQHu4mJukK"
      },
      "outputs": [],
      "source": [
        "# Dicionário com os dados de todas as imagens\n",
        "dados_gerais = {}\n",
        "\n",
        "# Loop que processa cada arquivo na lista de caminhos de arquivos.\n",
        "for frame in frames:\n",
        "  resultados, amostra = process_frame(frame)\n",
        "\n",
        "  # Imprime o número de objetos encontrados\n",
        "  print(resultados[1])\n",
        "\n",
        "  # Exibe a imagem com os contornos encontrados\n",
        "  cv2_imshow(resultados[0])\n",
        "\n",
        "  output_path = os.path.join(destino, f\"{amostra}_bteste.jpg\")\n",
        "\n",
        "  # Salvar a imagem resultante\n",
        "  cv2.imwrite(output_path, resultados[0])\n",
        "\n",
        "  # Dicionário com os dados de uma imagem\n",
        "  dados_frame = {}\n",
        "\n",
        "  # Chama a função create_dataset com o dataset gerado\n",
        "  dados_frame = create_dataset_image(resultados[2])\n",
        "\n",
        "  # Adicionando os dados em um dicionario maior\n",
        "  dados_gerais.update(resultados[2])\n",
        "\n",
        "  output_path_data = os.path.join(destino, f\"{amostra}_data.csv\")\n",
        "\n",
        "  # Salva o DataFrame em um arquivo CSV\n",
        "  dados_frame.to_csv(output_path_data, index=False)\n",
        "\n",
        "# Chama a função create_dataset_image com o dicionário completo de todas as imagens\n",
        "dataset_geral = create_dataset_image(dados_gerais)\n",
        "\n",
        "# Salva o DataFrame em um arquivo CSV\n",
        "dataset_geral.to_csv(destino + \"_dataset_geral.csv\", index=False)"
      ]
    },
    {
      "cell_type": "markdown",
      "source": [
        "# Mineração dos Dados:"
      ],
      "metadata": {
        "id": "xre8xTeJzwDy"
      }
    },
    {
      "cell_type": "code",
      "source": [
        "dataset_geral"
      ],
      "metadata": {
        "id": "4FRj6gTzxP83",
        "colab": {
          "base_uri": "https://localhost:8080/",
          "height": 53
        },
        "outputId": "d5bb777f-6df6-47a8-dc6c-37e6eff6f1de"
      },
      "execution_count": null,
      "outputs": [
        {
          "output_type": "execute_result",
          "data": {
            "text/plain": [
              "Empty DataFrame\n",
              "Columns: []\n",
              "Index: []"
            ],
            "text/html": [
              "\n",
              "  <div id=\"df-f89f91e0-3e57-4620-994c-f9a887d6d07e\" class=\"colab-df-container\">\n",
              "    <div>\n",
              "<style scoped>\n",
              "    .dataframe tbody tr th:only-of-type {\n",
              "        vertical-align: middle;\n",
              "    }\n",
              "\n",
              "    .dataframe tbody tr th {\n",
              "        vertical-align: top;\n",
              "    }\n",
              "\n",
              "    .dataframe thead th {\n",
              "        text-align: right;\n",
              "    }\n",
              "</style>\n",
              "<table border=\"1\" class=\"dataframe\">\n",
              "  <thead>\n",
              "    <tr style=\"text-align: right;\">\n",
              "      <th></th>\n",
              "    </tr>\n",
              "  </thead>\n",
              "  <tbody>\n",
              "  </tbody>\n",
              "</table>\n",
              "</div>\n",
              "    <div class=\"colab-df-buttons\">\n",
              "\n",
              "  <div class=\"colab-df-container\">\n",
              "    <button class=\"colab-df-convert\" onclick=\"convertToInteractive('df-f89f91e0-3e57-4620-994c-f9a887d6d07e')\"\n",
              "            title=\"Convert this dataframe to an interactive table.\"\n",
              "            style=\"display:none;\">\n",
              "\n",
              "  <svg xmlns=\"http://www.w3.org/2000/svg\" height=\"24px\" viewBox=\"0 -960 960 960\">\n",
              "    <path d=\"M120-120v-720h720v720H120Zm60-500h600v-160H180v160Zm220 220h160v-160H400v160Zm0 220h160v-160H400v160ZM180-400h160v-160H180v160Zm440 0h160v-160H620v160ZM180-180h160v-160H180v160Zm440 0h160v-160H620v160Z\"/>\n",
              "  </svg>\n",
              "    </button>\n",
              "\n",
              "  <style>\n",
              "    .colab-df-container {\n",
              "      display:flex;\n",
              "      gap: 12px;\n",
              "    }\n",
              "\n",
              "    .colab-df-convert {\n",
              "      background-color: #E8F0FE;\n",
              "      border: none;\n",
              "      border-radius: 50%;\n",
              "      cursor: pointer;\n",
              "      display: none;\n",
              "      fill: #1967D2;\n",
              "      height: 32px;\n",
              "      padding: 0 0 0 0;\n",
              "      width: 32px;\n",
              "    }\n",
              "\n",
              "    .colab-df-convert:hover {\n",
              "      background-color: #E2EBFA;\n",
              "      box-shadow: 0px 1px 2px rgba(60, 64, 67, 0.3), 0px 1px 3px 1px rgba(60, 64, 67, 0.15);\n",
              "      fill: #174EA6;\n",
              "    }\n",
              "\n",
              "    .colab-df-buttons div {\n",
              "      margin-bottom: 4px;\n",
              "    }\n",
              "\n",
              "    [theme=dark] .colab-df-convert {\n",
              "      background-color: #3B4455;\n",
              "      fill: #D2E3FC;\n",
              "    }\n",
              "\n",
              "    [theme=dark] .colab-df-convert:hover {\n",
              "      background-color: #434B5C;\n",
              "      box-shadow: 0px 1px 3px 1px rgba(0, 0, 0, 0.15);\n",
              "      filter: drop-shadow(0px 1px 2px rgba(0, 0, 0, 0.3));\n",
              "      fill: #FFFFFF;\n",
              "    }\n",
              "  </style>\n",
              "\n",
              "    <script>\n",
              "      const buttonEl =\n",
              "        document.querySelector('#df-f89f91e0-3e57-4620-994c-f9a887d6d07e button.colab-df-convert');\n",
              "      buttonEl.style.display =\n",
              "        google.colab.kernel.accessAllowed ? 'block' : 'none';\n",
              "\n",
              "      async function convertToInteractive(key) {\n",
              "        const element = document.querySelector('#df-f89f91e0-3e57-4620-994c-f9a887d6d07e');\n",
              "        const dataTable =\n",
              "          await google.colab.kernel.invokeFunction('convertToInteractive',\n",
              "                                                    [key], {});\n",
              "        if (!dataTable) return;\n",
              "\n",
              "        const docLinkHtml = 'Like what you see? Visit the ' +\n",
              "          '<a target=\"_blank\" href=https://colab.research.google.com/notebooks/data_table.ipynb>data table notebook</a>'\n",
              "          + ' to learn more about interactive tables.';\n",
              "        element.innerHTML = '';\n",
              "        dataTable['output_type'] = 'display_data';\n",
              "        await google.colab.output.renderOutput(dataTable, element);\n",
              "        const docLink = document.createElement('div');\n",
              "        docLink.innerHTML = docLinkHtml;\n",
              "        element.appendChild(docLink);\n",
              "      }\n",
              "    </script>\n",
              "  </div>\n",
              "\n",
              "    </div>\n",
              "  </div>\n"
            ],
            "application/vnd.google.colaboratory.intrinsic+json": {
              "type": "dataframe",
              "variable_name": "dataset_geral",
              "summary": "{\n  \"name\": \"dataset_geral\",\n  \"rows\": 0,\n  \"fields\": []\n}"
            }
          },
          "metadata": {},
          "execution_count": 40
        }
      ]
    },
    {
      "cell_type": "code",
      "source": [
        "dataset_geral.describe()"
      ],
      "metadata": {
        "id": "UssznVoKzC5Y"
      },
      "execution_count": null,
      "outputs": []
    },
    {
      "cell_type": "code",
      "source": [
        "# Acesse a coluna \"distance\" do DataFrame\n",
        "coluna_distance = dataset_geral['distance_of_points']\n",
        "\n",
        "# Crie um boxplot da coluna \"distance\"\n",
        "plt.boxplot(coluna_distance)\n",
        "\n",
        "# Adicione rótulos e título ao gráfico\n",
        "plt.xlabel('Coluna \"distance\"')\n",
        "plt.ylabel('Valores')\n",
        "plt.title('Boxplot da coluna \"distance\"')\n",
        "\n",
        "# Exiba o gráfico\n",
        "plt.show()"
      ],
      "metadata": {
        "id": "dcfaQwKmzVjw"
      },
      "execution_count": null,
      "outputs": []
    },
    {
      "cell_type": "code",
      "source": [
        "qtd_amostras = coluna_distance.count()\n",
        "\n",
        "# Defina o limiar\n",
        "limiar = 10\n",
        "\n",
        "# Area de interesse:\n",
        "ideais = 5\n",
        "\n",
        "# Conte o número de amostras que são superiores ao limiar\n",
        "contador = np.sum(coluna_distance > limiar)\n",
        "\n",
        "# Conte o número de amostras que são superiores ao limiar\n",
        "desejo = np.sum(coluna_distance < ideais)\n",
        "\n",
        "Precisão = (desejo / qtd_amostras) * 100\n",
        "\n",
        "# Imprima o resultado\n",
        "print(f\"temos ({qtd_amostras}) amostras no total.\")\n",
        "\n",
        "# Imprima o resultado\n",
        "print(f\"Número de amostras acima ({limiar}) unidades de distancia: {contador}\")\n",
        "\n",
        "# Imprima o resultado\n",
        "print(f\"Número de amostras abixo de ({ideais}) unidades de distancia: {desejo}\")\n",
        "\n",
        "# Imprima o resultado\n",
        "print(f\"Temos uma precisão de: {Precisão}\")"
      ],
      "metadata": {
        "id": "bF-LI4yi0OOR"
      },
      "execution_count": null,
      "outputs": []
    }
  ],
  "metadata": {
    "colab": {
      "provenance": [],
      "include_colab_link": true
    },
    "kernelspec": {
      "display_name": "Python 3",
      "name": "python3"
    },
    "language_info": {
      "name": "python"
    }
  },
  "nbformat": 4,
  "nbformat_minor": 0
}